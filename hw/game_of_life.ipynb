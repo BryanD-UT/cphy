{
 "cells": [
  {
   "cell_type": "code",
   "execution_count": 1,
   "id": "9ee03d2d-906b-4dee-aee1-b48f2a17a887",
   "metadata": {},
   "outputs": [],
   "source": [
    "import numpy as np\n",
    "import matplotlib.pyplot as plt\n",
    "%matplotlib inline"
   ]
  },
  {
   "cell_type": "markdown",
   "id": "c54957bf",
   "metadata": {},
   "source": []
  },
  {
   "cell_type": "code",
   "execution_count": null,
   "id": "c362a428",
   "metadata": {},
   "outputs": [],
   "source": [
    "class CellularAutomaton:\n",
    "\n",
    "    def __init__(self, n_states, n_neighbors, initial_state):\n",
    "        self.n_states = n_states\n",
    "        self.n_neighbors = n_neighbors\n",
    "        self.initial_state = initial_state\n",
    "        self.state = initial_state\n",
    "\n",
    "    def step(self):\n",
    "        \"\"\"\n",
    "        Output the next state of the entire board\n",
    "        \"\"\"\n",
    "        self.state = self.next_state()\n",
    "        return self.state\n",
    "\n",
    "    def simulate(self, n_steps):\n",
    "        \"\"\"\n",
    "        Iterate the dynamics for n_steps, and return the results as an array\n",
    "        \"\"\"\n",
    "        for i in range(n_steps):\n",
    "            self.step()\n",
    "        return self.state\n",
    "\n",
    "\n",
    "class GameOfLife(CellularAutomaton):\n",
    "\n",
    "    def __init__(self, n_states, **kwargs):\n",
    "        super().__init__(n_states=2, **kwargs)\n",
    "\n",
    "    def next_state(self):\n",
    "        \"\"\"\n",
    "        Compute the next state of the board\n",
    "        \"\"\"\n",
    "        # Compute the next state\n",
    "        next_state = np.zeros_like(self.state)\n",
    "        for i in range(self.state.shape[0]):\n",
    "            for j in range(self.state.shape[1]):\n",
    "                # Compute the number of neighbors\n",
    "                n_neighbors = 0\n",
    "                for ii in range(-1, 2):\n",
    "                    for jj in range(-1, 2):\n",
    "                        if ii == 0 and jj == 0:\n",
    "                            continue\n",
    "                        try:\n",
    "                            n_neighbors += self.state[i+ii, j+jj]\n",
    "                        except IndexError:\n",
    "                            continue\n",
    "                # Update the next state\n",
    "                if self.state[i, j] == 1:\n",
    "                    if n_neighbors in [2, 3]:\n",
    "                        next_state[i, j] = 1\n",
    "                else:\n",
    "                    if n_neighbors == 3:\n",
    "                        next_state[i, j] = 1\n",
    "        return next_state"
   ]
  },
  {
   "cell_type": "markdown",
   "id": "e78a52d2",
   "metadata": {},
   "source": []
  },
  {
   "cell_type": "code",
   "execution_count": null,
   "id": "c9cecbd8",
   "metadata": {},
   "outputs": [],
   "source": []
  },
  {
   "cell_type": "markdown",
   "id": "ac7cbee8",
   "metadata": {},
   "source": [
    "# The Game of Life and arrays\n",
    "\n",
    "Cellular automata represent an intriguing example of a physical system where surprising complexity emerges from relatively simple rules.\n",
    "\n",
    "1. Implement the Game of Life in Python\n",
    "2. If the number of pixels in the initial conditions is equal to $N$ (for example, we have an $\\sqrt{N}\\times\\sqrt{N}$ input image), then how does the runtime and memory of a single update step scale with $N$?\n",
    "3. \n",
    "\n",
    "Cellular automata have a rich history in the physics literature, although their popularity has declined somewhat due to a lack of analytical tools for working with their governing equations. \n",
    "\n",
    "One common criticism of Game-of-Life like CAs comes from their requirement of a *synchronous* update rule: all of the cells update to a new state at the same time: the value of a cell x_{ij}(t+1) depends on the \"frozen\" values x_{ij}(t) and its neighbors at t. In a real-world system, updates are asynchronous: different cells will update at different times. One way of thinking about asynchronous updates is that we only update a single cell in a given timestep, and we gradually raster-scan across the entire image to update all cells sequentially. Asynchronous update rules usually have qualitatively distinct dynamics than synchronous CA.\n",
    "\n",
    "With what you know about scaling of time and space complexity, can you figure out why asynchronous updates might be more biologically plausaible?\n",
    "\n",
    "\n",
    "\n",
    "\n",
    "Some thoughts: while deep learning is in the news, the most popular machine learning algorithms are practical applications are likely random forests, which involve training an ensemble of small machine learning models (decision trees), and averaging their results to generate a consensus prediction or classification. A powerful variant of RF are so-called gradient-boosted decision trees, in which individual decision trees are trained sequentially based on errors from previous trees. Training random forests vs boosted trees are a nice example of a synchronous vs asynchronous algorithm."
   ]
  },
  {
   "cell_type": "code",
   "execution_count": null,
   "id": "1de54769",
   "metadata": {},
   "outputs": [],
   "source": []
  },
  {
   "cell_type": "code",
   "execution_count": null,
   "id": "05210acc",
   "metadata": {},
   "outputs": [],
   "source": []
  },
  {
   "cell_type": "code",
   "execution_count": null,
   "id": "63417f56",
   "metadata": {},
   "outputs": [],
   "source": []
  },
  {
   "cell_type": "code",
   "execution_count": null,
   "id": "349b2b5a",
   "metadata": {},
   "outputs": [],
   "source": []
  },
  {
   "cell_type": "code",
   "execution_count": null,
   "id": "2368be91",
   "metadata": {},
   "outputs": [],
   "source": []
  },
  {
   "cell_type": "code",
   "execution_count": null,
   "id": "53557b8e",
   "metadata": {},
   "outputs": [],
   "source": []
  }
 ],
 "metadata": {
  "kernelspec": {
   "display_name": "Python 3.8.11 ('phys381')",
   "language": "python",
   "name": "python3"
  },
  "language_info": {
   "codemirror_mode": {
    "name": "ipython",
    "version": 3
   },
   "file_extension": ".py",
   "mimetype": "text/x-python",
   "name": "python",
   "nbconvert_exporter": "python",
   "pygments_lexer": "ipython3",
   "version": "3.8.11"
  },
  "vscode": {
   "interpreter": {
    "hash": "dd2d507358018fbaed212338faa319de6206d9a642fdbeff386a22163c5069f1"
   }
  }
 },
 "nbformat": 4,
 "nbformat_minor": 5
}
