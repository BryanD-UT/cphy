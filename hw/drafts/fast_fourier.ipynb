{
 "cells": [
  {
   "cell_type": "code",
   "execution_count": null,
   "id": "9ee03d2d-906b-4dee-aee1-b48f2a17a887",
   "metadata": {},
   "outputs": [],
   "source": [
    "import numpy as np\n",
    "import matplotlib.pyplot as plt\n",
    "%matplotlib inline"
   ]
  },
  {
   "cell_type": "markdown",
   "id": "4f8e6c6a-6511-4f58-bf7f-5288abe6a110",
   "metadata": {},
   "source": [
    "# Fourier Transforms\n",
    "\n",
    "+ Notice that our base class includes a freq_bounds function. Where do these bounds come from?"
   ]
  },
  {
   "cell_type": "code",
   "execution_count": 51,
   "id": "d46a440c-feb4-4003-99ca-5fece3c4c4b2",
   "metadata": {},
   "outputs": [],
   "source": [
    "class SignalTransform:\n",
    "    \n",
    "    def __init__(self, center=True):\n",
    "        self.center = center\n",
    "        \n",
    "    def preprocess(self, signal):\n",
    "        if self.center:\n",
    "            signal -= np.mean(signal, axis=0, keepdims=True)\n",
    "    \n",
    "    # static methods don't require a \"self\" argument, but also can't \n",
    "    # access instance attributes. For example, this function can't see the \n",
    "    # self.center variable that we set in the __init__() constructor \n",
    "    @staticmethod\n",
    "    def freq_bounds(signal):\n",
    "        \"\"\"Compute upper and lower frequency bounds using the Nyquist criterion\"\"\"\n",
    "        n = len(signal)\n",
    "        \n",
    "# There's another way to do this as of Python 3.7 (released in June 2018)\n",
    "# https://docs.python.org/3/library/dataclasses.html\n",
    "# dataclasses are useful if you are setting a lot of kwargs in the constructor\n",
    "# child classes initialize *first*, althoug this can be avoided by using the \n",
    "# newly-introduced __post_init__ function\n",
    "\n",
    "# from dataclasses import dataclass\n",
    "# @dataclass\n",
    "# class SignalTransform:\n",
    "#     center: bool = True\n",
    "\n",
    "\n",
    "\n",
    "\n",
    "class DiscreteFourierTransform(SignalTransform):\n",
    "    \n",
    "    def __init__(self, **kwargs):\n",
    "        super().__init__(**kwargs)\n",
    "        \n",
    "        \n",
    "    def transform(self, signal):\n",
    "        \n",
    "        n = len(signal)\n",
    "        k_vals = np.arange(n)[:, None]\n",
    "        \n",
    "        # Python has built-in complex numbers, which numpy supports\n",
    "        coeffs = np.exp(-2j * np.pi * k_vals * np.arange(n) / n)\n",
    "        \n",
    "        return np.dot(coeffs, signal)\n",
    "    \n",
    "    \n",
    "    \n",
    "class FastFourierTransform(SignalTransform):\n",
    "    \n",
    "    def __init__(self, **kwargs):\n",
    "        super().__init__(**kwargs)\n",
    "        \n",
    "    def transform(self, signal):\n",
    "        \n",
    "        n = len(signal)\n",
    "        \n",
    "        if n == 1:  # this cutoff should be optimized\n",
    "            return signal\n",
    "        else:\n",
    "            signal_even = self.transform(signal[::2])\n",
    "            signal_odd = self.transform(signal[1::2])\n",
    "            coeffs = np.exp(-2j * np.pi * np.arange(n) / n)\n",
    "            signal_new =  np.hstack([\n",
    "                signal_even + coeffs[:(n // 2)] * signal_odd,\n",
    "                signal_even + coeffs[(n // 2):] * signal_odd\n",
    "            ])\n",
    "            return signal_new\n"
   ]
  },
  {
   "cell_type": "code",
   "execution_count": 55,
   "id": "32a11bb3-27bc-4150-81ba-ce76bd730521",
   "metadata": {},
   "outputs": [
    {
     "name": "stdout",
     "output_type": "stream",
     "text": [
      "24.8 ms ± 402 µs per loop (mean ± std. dev. of 7 runs, 10 loops each)\n",
      "True\n",
      "10.5 ms ± 245 µs per loop (mean ± std. dev. of 7 runs, 100 loops each)\n",
      "True\n"
     ]
    }
   ],
   "source": [
    "x = np.random.random(2**10) # Needs to be a power of 2\n",
    "\n",
    "dft_m = DiscreteFourierTransform()\n",
    "%timeit dft_m.transform(x) \n",
    "print(np.allclose(dft_m.transform(x), np.fft.fft(x)))\n",
    "\n",
    "fft_m = FastFourierTransform()\n",
    "%timeit fft_m.transform(x) \n",
    "print(np.allclose(fft_m.transform(x), np.fft.fft(x)))"
   ]
  },
  {
   "cell_type": "code",
   "execution_count": 53,
   "id": "03e683f5-67ae-4424-a4c3-a161804ac394",
   "metadata": {},
   "outputs": [
    {
     "data": {
      "text/plain": [
       "[<matplotlib.lines.Line2D at 0x7faed0663a90>]"
      ]
     },
     "execution_count": 53,
     "metadata": {},
     "output_type": "execute_result"
    },
    {
     "data": {
      "image/png": "[encoded data removed]",
      "text/plain": [
       "<Figure size 432x288 with 1 Axes>"
      ]
     },
     "metadata": {
      "needs_background": "light"
     },
     "output_type": "display_data"
    }
   ],
   "source": [
    "plt.plot(np.abs(fft_m.transform(x)))\n",
    "\n",
    "plt.plot(np.abs(np.fft.fft(x)))"
   ]
  },
  {
   "cell_type": "markdown",
   "id": "42543db8-99bc-47e5-a921-a530a200445f",
   "metadata": {},
   "source": [
    "+ Vectorize "
   ]
  },
  {
   "cell_type": "markdown",
   "id": "643d193f-b3cc-4efe-94a0-355a1d2e4a2b",
   "metadata": {},
   "source": [
    "# Barnes-Hut algorithm\n",
    "\n",
    "This method is most-commonly used for n-body simulations in astrophysics.\n",
    "\n",
    "https://lewiscoleblog.com/barnes-hut"
   ]
  },
  {
   "cell_type": "code",
   "execution_count": 7,
   "id": "cb805263-0edf-4812-ba31-f8c3399e37c0",
   "metadata": {},
   "outputs": [
    {
     "ename": "NameError",
     "evalue": "name 'quadrant_mass' is not defined",
     "output_type": "error",
     "traceback": [
      "\u001b[0;31m---------------------------------------------------------------------------\u001b[0m",
      "\u001b[0;31mNameError\u001b[0m                                 Traceback (most recent call last)",
      "\u001b[0;32m/var/folders/g_/3gcjjjc12l9cjdh8drtctrdm0000gp/T/ipykernel_21202/4151939949.py\u001b[0m in \u001b[0;36m<module>\u001b[0;34m\u001b[0m\n\u001b[1;32m     51\u001b[0m     \u001b[0;32mreturn\u001b[0m \u001b[0mforces\u001b[0m\u001b[0;34m\u001b[0m\u001b[0;34m\u001b[0m\u001b[0m\n\u001b[1;32m     52\u001b[0m \u001b[0;34m\u001b[0m\u001b[0m\n\u001b[0;32m---> 53\u001b[0;31m \u001b[0mout\u001b[0m \u001b[0;34m=\u001b[0m \u001b[0mbarnes_hut_force\u001b[0m\u001b[0;34m(\u001b[0m\u001b[0mnp\u001b[0m\u001b[0;34m.\u001b[0m\u001b[0marray\u001b[0m\u001b[0;34m(\u001b[0m\u001b[0;34m[\u001b[0m\u001b[0;34m[\u001b[0m\u001b[0;36m0\u001b[0m\u001b[0;34m,\u001b[0m \u001b[0;36m0\u001b[0m\u001b[0;34m,\u001b[0m \u001b[0;36m0\u001b[0m\u001b[0;34m]\u001b[0m\u001b[0;34m,\u001b[0m \u001b[0;34m[\u001b[0m\u001b[0;36m1\u001b[0m\u001b[0;34m,\u001b[0m \u001b[0;36m0\u001b[0m\u001b[0;34m,\u001b[0m \u001b[0;36m0\u001b[0m\u001b[0;34m]\u001b[0m\u001b[0;34m,\u001b[0m \u001b[0;34m[\u001b[0m\u001b[0;36m0\u001b[0m\u001b[0;34m,\u001b[0m \u001b[0;36m1\u001b[0m\u001b[0;34m,\u001b[0m \u001b[0;36m0\u001b[0m\u001b[0;34m]\u001b[0m\u001b[0;34m,\u001b[0m \u001b[0;34m[\u001b[0m\u001b[0;36m0\u001b[0m\u001b[0;34m,\u001b[0m \u001b[0;36m0\u001b[0m\u001b[0;34m,\u001b[0m \u001b[0;36m1\u001b[0m\u001b[0;34m]\u001b[0m\u001b[0;34m]\u001b[0m\u001b[0;34m)\u001b[0m\u001b[0;34m,\u001b[0m \u001b[0mnp\u001b[0m\u001b[0;34m.\u001b[0m\u001b[0marray\u001b[0m\u001b[0;34m(\u001b[0m\u001b[0;34m[\u001b[0m\u001b[0;36m1\u001b[0m\u001b[0;34m,\u001b[0m \u001b[0;36m1\u001b[0m\u001b[0;34m,\u001b[0m \u001b[0;36m1\u001b[0m\u001b[0;34m,\u001b[0m \u001b[0;36m1\u001b[0m\u001b[0;34m]\u001b[0m\u001b[0;34m)\u001b[0m\u001b[0;34m)\u001b[0m\u001b[0;34m\u001b[0m\u001b[0;34m\u001b[0m\u001b[0m\n\u001b[0m",
      "\u001b[0;32m/var/folders/g_/3gcjjjc12l9cjdh8drtctrdm0000gp/T/ipykernel_21202/4151939949.py\u001b[0m in \u001b[0;36mbarnes_hut_force\u001b[0;34m(positions, masses, G, theta)\u001b[0m\n\u001b[1;32m     48\u001b[0m     \u001b[0;31m# Compute the force on each particle\u001b[0m\u001b[0;34m\u001b[0m\u001b[0;34m\u001b[0m\u001b[0;34m\u001b[0m\u001b[0m\n\u001b[1;32m     49\u001b[0m     \u001b[0mforces\u001b[0m \u001b[0;34m=\u001b[0m \u001b[0mnp\u001b[0m\u001b[0;34m.\u001b[0m\u001b[0mzeros_like\u001b[0m\u001b[0;34m(\u001b[0m\u001b[0mpositions\u001b[0m\u001b[0;34m)\u001b[0m\u001b[0;34m\u001b[0m\u001b[0;34m\u001b[0m\u001b[0m\n\u001b[0;32m---> 50\u001b[0;31m     \u001b[0mquadtree\u001b[0m\u001b[0;34m.\u001b[0m\u001b[0mcompute_forces\u001b[0m\u001b[0;34m(\u001b[0m\u001b[0mpositions\u001b[0m\u001b[0;34m,\u001b[0m \u001b[0mmasses\u001b[0m\u001b[0;34m,\u001b[0m \u001b[0mforces\u001b[0m\u001b[0;34m,\u001b[0m \u001b[0mG\u001b[0m\u001b[0;34m,\u001b[0m \u001b[0mtheta\u001b[0m\u001b[0;34m)\u001b[0m\u001b[0;34m\u001b[0m\u001b[0;34m\u001b[0m\u001b[0m\n\u001b[0m\u001b[1;32m     51\u001b[0m     \u001b[0;32mreturn\u001b[0m \u001b[0mforces\u001b[0m\u001b[0;34m\u001b[0m\u001b[0;34m\u001b[0m\u001b[0m\n\u001b[1;32m     52\u001b[0m \u001b[0;34m\u001b[0m\u001b[0m\n",
      "\u001b[0;32m/var/folders/g_/3gcjjjc12l9cjdh8drtctrdm0000gp/T/ipykernel_21202/4151939949.py\u001b[0m in \u001b[0;36mcompute_forces\u001b[0;34m(self, positions, masses, forces, G, theta)\u001b[0m\n\u001b[1;32m     30\u001b[0m             \u001b[0mquadrant_radius\u001b[0m \u001b[0;34m=\u001b[0m \u001b[0mnp\u001b[0m\u001b[0;34m.\u001b[0m\u001b[0msum\u001b[0m\u001b[0;34m(\u001b[0m\u001b[0mmasses\u001b[0m\u001b[0;34m)\u001b[0m \u001b[0;34m/\u001b[0m \u001b[0;34m(\u001b[0m\u001b[0;36m4\u001b[0m \u001b[0;34m*\u001b[0m \u001b[0mnp\u001b[0m\u001b[0;34m.\u001b[0m\u001b[0mpi\u001b[0m\u001b[0;34m)\u001b[0m\u001b[0;34m\u001b[0m\u001b[0;34m\u001b[0m\u001b[0m\n\u001b[1;32m     31\u001b[0m             \u001b[0;31m# Compute the quadrant's kinetic energy\u001b[0m\u001b[0;34m\u001b[0m\u001b[0;34m\u001b[0m\u001b[0;34m\u001b[0m\u001b[0m\n\u001b[0;32m---> 32\u001b[0;31m             \u001b[0mquadrant_kinetic_energy\u001b[0m \u001b[0;34m=\u001b[0m \u001b[0;36m0.5\u001b[0m \u001b[0;34m*\u001b[0m \u001b[0mquadrant_mass\u001b[0m \u001b[0;34m*\u001b[0m \u001b[0mnp\u001b[0m\u001b[0;34m.\u001b[0m\u001b[0msum\u001b[0m\u001b[0;34m(\u001b[0m\u001b[0mmasses\u001b[0m \u001b[0;34m*\u001b[0m \u001b[0mdist\u001b[0m \u001b[0;34m**\u001b[0m \u001b[0;36m2\u001b[0m\u001b[0;34m)\u001b[0m\u001b[0;34m\u001b[0m\u001b[0;34m\u001b[0m\u001b[0m\n\u001b[0m\u001b[1;32m     33\u001b[0m             \u001b[0;31m# Compute the quadrant's potential energy\u001b[0m\u001b[0;34m\u001b[0m\u001b[0;34m\u001b[0m\u001b[0;34m\u001b[0m\u001b[0m\n\u001b[1;32m     34\u001b[0m             \u001b[0mquadrant_potential_energy\u001b[0m \u001b[0;34m=\u001b[0m \u001b[0;34m-\u001b[0m\u001b[0mG\u001b[0m \u001b[0;34m*\u001b[0m \u001b[0mquadrant_mass\u001b[0m \u001b[0;34m*\u001b[0m \u001b[0mquadrant_com\u001b[0m\u001b[0;34m[\u001b[0m\u001b[0;36m2\u001b[0m\u001b[0;34m]\u001b[0m\u001b[0;34m\u001b[0m\u001b[0;34m\u001b[0m\u001b[0m\n",
      "\u001b[0;31mNameError\u001b[0m: name 'quadrant_mass' is not defined"
     ]
    }
   ],
   "source": [
    "import numpy as np\n",
    "\n",
    "class QuadTree:\n",
    "\n",
    "    def __init__(self, positions, masses, dist_matrix):\n",
    "        self.positions = positions\n",
    "        self.masses = masses\n",
    "        self.dist_matrix = dist_matrix\n",
    "        self.children = None\n",
    "\n",
    "    def compute_forces(self, positions, masses, forces, G, theta):\n",
    "        if self.children is None:\n",
    "            # Compute the center-of-mass\n",
    "            com = np.sum(positions * masses[:, None], axis=0) / np.sum(masses)\n",
    "            # Compute the distance to the center-of-mass\n",
    "            dist = np.sqrt(np.sum((positions - com) ** 2, axis=1))\n",
    "            # Compute the total mass\n",
    "            total_mass = np.sum(masses)\n",
    "            # Compute the radius of the quadrant\n",
    "            radius = np.sum(masses) / (4 * np.pi)\n",
    "            # Compute the kinetic energy\n",
    "            kinetic_energy = 0.5 * total_mass * np.sum(masses * dist ** 2)\n",
    "            # Compute the potential energy\n",
    "            potential_energy = -G * total_mass * com[2]\n",
    "            # Compute the total energy\n",
    "            total_energy = kinetic_energy + potential_energy\n",
    "            # Compute the quadrant's center-of-mass\n",
    "            quadrant_com = np.sum(positions * masses[:, None], axis=0) / np.sum(masses)\n",
    "            # Compute the quadrant's radius\n",
    "            quadrant_radius = np.sum(masses) / (4 * np.pi)\n",
    "            # Compute the quadrant's kinetic energy\n",
    "            quadrant_kinetic_energy = 0.5 * quadrant_mass * np.sum(masses * dist ** 2)\n",
    "            # Compute the quadrant's potential energy\n",
    "            quadrant_potential_energy = -G * quadrant_mass * quadrant_com[2]\n",
    "            # Compute the quadrant's total energy\n",
    "            quadrant_total_energy = quadrant_kinetic_energy + quadrant_potential_energy\n",
    "            # Compute the quadrant's center-of-mass velocity\n",
    "            quadrant_com    = np.sum(positions * masses[:, None], axis=0) / np.sum(masses)\n",
    "            quadrant_velocity = np.sum(velocities * masses[:, None], axis=0) / np.sum(masses)\n",
    "            quadrant_com_velocity = quadrant_velocity - quadrant_com\n",
    "            # Compute the quadrant's angular momentum\n",
    "            quadrant_angular_momentum = np.sum(masses * np.cross(positions, velocities))\n",
    "            # Compute the quadrant's linear momentum\n",
    "            quadrant_linear_momentum = np.sum(masses * velocities)\n",
    "            # Compute the quadrant's angular velocity\n",
    "            quadrant_angular_velocity = quadrant_angular_momentum / quadrant_linear_momentum\n",
    "            # Compute the quadrant's linear velocity\n",
    "            quadrant_linear_velocity = quadrant_linear_momentum / quadrant_linear_momentum\n",
    "            # Compute the quadrant's angular acceleration\n",
    "            quadrant_angular_acceleration = quadrant_angular_velocity - quadrant_angular_velocity\n",
    "            # Compute the quadrant's linear acceleration\n",
    "            quadrant_linear_acceleration = quadrant_linear_velocity - quadrant_linear_velocity\n",
    "            # Compute the quadrant's angular jerk\n",
    "            quadrant_angular_jerk = quadrant_angular_acceleration - quadrant_angular_acceleration\n",
    "            # Compute the quadrant's linear jerk\n",
    "\n",
    "def barnes_hut_force(positions, masses, G=1, theta=0.5):\n",
    "    \"\"\"\n",
    "    Barnes-Hut algorithm for computing the force on each particle.\n",
    "    \"\"\"\n",
    "    # Compute the distance matrix\n",
    "    dist_matrix = np.sqrt(np.sum(positions[:, None, :] ** 2, axis=2))\n",
    "    # Compute the Barnes-Hut quadtree\n",
    "    quadtree = QuadTree(positions, masses, dist_matrix)\n",
    "    # Compute the force on each particle\n",
    "    forces = np.zeros_like(positions)\n",
    "    quadtree.compute_forces(positions, masses, forces, G, theta)\n",
    "    return forces\n",
    "\n",
    "out = barnes_hut_force(np.array([[0, 0, 0], [1, 0, 0], [0, 1, 0], [0, 0, 1]]), np.array([1, 1, 1, 1]))"
   ]
  },
  {
   "cell_type": "code",
   "execution_count": null,
   "id": "4ba7c649-b71a-4741-b339-406690db8c41",
   "metadata": {},
   "outputs": [],
   "source": []
  }
 ],
 "metadata": {
  "kernelspec": {
   "display_name": "Python 3.8.11 ('phys381')",
   "language": "python",
   "name": "python3"
  },
  "language_info": {
   "codemirror_mode": {
    "name": "ipython",
    "version": 3
   },
   "file_extension": ".py",
   "mimetype": "text/x-python",
   "name": "python",
   "nbconvert_exporter": "python",
   "pygments_lexer": "ipython3",
   "version": "3.8.11"
  },
  "vscode": {
   "interpreter": {
    "hash": "dd2d507358018fbaed212338faa319de6206d9a642fdbeff386a22163c5069f1"
   }
  }
 },
 "nbformat": 4,
 "nbformat_minor": 5
}
