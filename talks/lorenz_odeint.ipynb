{
 "cells": [
  {
   "cell_type": "code",
   "execution_count": 1,
   "id": "9ee03d2d-906b-4dee-aee1-b48f2a17a887",
   "metadata": {},
   "outputs": [],
   "source": [
    "import numpy as np\n",
    "\n",
    "# Import local plotting functions and in-notebook display functions\n",
    "import matplotlib.pyplot as plt\n",
    "%matplotlib inline\n"
   ]
  },
  {
   "cell_type": "markdown",
   "id": "c222dcbf",
   "metadata": {},
   "source": [
    "# the Lorenz Model\n",
    "\n",
    "Let's use a famous set of coupled differential equations to demonstrate our points"
   ]
  },
  {
   "cell_type": "code",
   "execution_count": null,
   "id": "3574245c",
   "metadata": {},
   "outputs": [],
   "source": []
  },
  {
   "cell_type": "code",
   "execution_count": null,
   "id": "c9e46aa8",
   "metadata": {},
   "outputs": [],
   "source": []
  },
  {
   "cell_type": "markdown",
   "id": "bac858d4",
   "metadata": {},
   "source": [
    "## Explicit fixed-step integrators"
   ]
  },
  {
   "cell_type": "code",
   "execution_count": null,
   "id": "0cf64ed5",
   "metadata": {},
   "outputs": [],
   "source": [
    "\n",
    "class BaseFixedStepIntegrator:\n",
    "    \"\"\"\n",
    "    A base class for fixed-step integration methods.\n",
    "    \"\"\"\n",
    "    def __init__(self, dt=1e-3):\n",
    "        self.dt = dt\n",
    "        self.name = self.__class__.__name__\n",
    "        \n",
    "\n",
    "class Euler(BaseFixedStepIntegrator):\n",
    "    \"\"\"\n",
    "    Note:\n",
    "    super() calls the constructor of BaseIntegrator\n",
    "    kwargs get passed on to the constructor of BaseIntegrator\n",
    "    \"\"\"\n",
    "    def __init__(self, **kwargs):\n",
    "        super().__init__(**kwargs)\n",
    "        \n",
    "    def integrate(self, f, t0, y0, t1):\n",
    "        \"\"\"\n",
    "        Integrate the ODE y' = f(t, y) from t0 to t1 using Euler's method.\n",
    "        \"\"\"\n",
    "        t = np.arange(t0, t1, self.dt)\n",
    "        n = len(t)\n",
    "        y = np.zeros((n + 1, y0.shape[-1]))\n",
    "        y[0] = y0\n",
    "        print(y[0])\n",
    "        for i in range(n):\n",
    "            y[i + 1] = y[i] + self.dt * f(t[i], y[i])\n",
    "        return t, y\n",
    "\n",
    "class RungeKutta(BaseFixedStepIntegrator):\n",
    "\n",
    "    def __init__(self, **kwargs):\n",
    "        super().__init__(**kwargs)\n",
    "\n",
    "    def integrate(self, f, t0, y0, t1):\n",
    "        t = np.arange(t0, t1, self.dt)\n",
    "        n = len(t)\n",
    "        y = np.zeros((n + 1, y0.shape[-1]))\n",
    "        y[0] = y0\n",
    "        for i in range(n):\n",
    "            k1 = f(t[i], y[i])\n",
    "            k2 = f(t[i] + 0.5 *  self.dt, y[i] + 0.5 *  self.dt * k1)\n",
    "            k3 = f(t[i] + 0.5 *  self.dt, y[i] + 0.5 *  self.dt * k2)\n",
    "            k4 = f(t[i] + self.dt, y[i] + self.dt * k3)\n",
    "            y[i + 1] = y[i] + self.dt / 6 * (k1 + 2 * k2 + 2 * k3 + k4)\n",
    "        return t, y\n",
    "\n",
    "\n",
    "class DormandPrince(BaseFixedStepIntegrator):\n",
    "\n",
    "    def __init__(self, **kwargs):\n",
    "        super().__init__(**kwargs)\n",
    "\n",
    "    def integrate(self, f, t0, y0, t1):\n",
    "        t = np.arange(t0, t1, self.dt)\n",
    "        h = self.dt\n",
    "        n = len(t)\n",
    "        y = np.zeros((n + 1, y0.shape[-1]))\n",
    "        y[0] = y0\n",
    "        for i in range(n):\n",
    "            k1 = f(t[i], y[i])\n",
    "            k2 = f(t[i] + 0.25 * h, y[i] + 0.25 * h * k1)\n",
    "            k3 = f(t[i] + (3 / 8) * h, y[i] + (3 / 32) * h * k1 + (9 / 32) * h * k2)\n",
    "            k4 = f(t[i] + (12 / 13) * h, y[i] + (1932 / 2197) * h * k1 - (7200 / 2197) * h * k2 + (7296 / 2197) * h * k3)\n",
    "            k5 = f(t[i] + h, y[i] + (439 / 216) * h * k1 - 8 * h * k2 + (3680 / 513) * h * k3 - (845 / 4104) * h * k4)\n",
    "            k6 = f(t[i] + (1 / 35) * h, y[i] - (8 / 27) * h * k1 + 2 * h * k2 - 3544 / 2565 * h * k3 + 1859 / 4104 * h * k4 - 11 / 40 * h * k5)\n",
    "            y[i + 1] = y[i] + (25 / 216) * h * k1 + 1408 / 2565 * h * k3 + 2197 / 4104 * h * k4 - 1 / 5 * h * k5\n",
    "        return t, y\n"
   ]
  },
  {
   "cell_type": "code",
   "execution_count": null,
   "id": "8181c3c1",
   "metadata": {},
   "outputs": [],
   "source": []
  },
  {
   "cell_type": "markdown",
   "id": "24295673",
   "metadata": {},
   "source": [
    "## Butcher Tableau\n",
    "\n",
    "A recursive set of definitions for the coefficients in explicit Runge-Kutta methods\n",
    "\n",
    "<!-- \\begin{array} {c|cccc} 0\\\\ 1/2 & 1/2\\\\ 1/2 &0 &1/2 \\\\ 1& 0& 0& 1\\\\ \\hline & 1/6 & 1/3 & 1/3 &1/6 \\end{array}\n",
    "\n",
    "\\begin{array} {c|cccc} 0\\\\ 1/3 & 1/3\\\\ 2/3 & -1/3 &1 \\\\ 1& 1& -1 & 1\\\\ \\hline & 1/8 & 3/8 & 3/8 &1/8 \\end{array}\n",
    "\n",
    "\\begin{array} {c|ccccc} 0\\\\ c_2 & a_{21}\\\\ c_3 & a_{31} & a_{32} \\\\ \\vdots & \\vdots & & \\ddots \\\\ c_s& a_{s1}& a_{s2} & \\cdots & a_{s,s-1}\\\\ \\hline & b_1 & b_2 & \\cdots & b_{s-1} & b_s \\end{array}\n",
    "\n",
    " -->\n",
    "\n",
    "$$\n",
    "y' = f(t, y)\n",
    "$$\n",
    "\n",
    "$$\n",
    "y_{n+1} = y_n + \\frac{h}{6}\\left( k_{n1} + 2k_{n2} + 2k_{n3} + k_{n4}\\right)\n",
    "$$\n",
    "\n",
    "\n",
    "k_{n1} &=& f(t_n, y_n) \\\\ \n",
    "k_{n2} &=& f(t_n + 0.5h, y_n + 0.5hk_{n1}) \\\\ \n",
    "k_{n3} &=& f(t_n + 0.5h, y_n + 0.5hk_{n2}) \\\\\n",
    "k_{n4} &=& f(t_n + h, y_n + hk_{n3}) \\\\\n",
    "\n",
    "\n",
    "<!-- k_{n1} &=& f(t_n, y_n) \\\\ k_{n2} &=& f(t_n + 0.5h, y_n + 0.5hk_{n1}) \\\\ k_{n3} &=& f(t_n + 0.5h, y_n + 0.5hk_{n2}) \\\\ k_{n4} &=& f(t_n + h, y_n + hk_{n3}) \\\\ -->\n",
    "\n",
    "## Runge-Kutta methods\n",
    "\n",
    "$$\n",
    "k_{ni} = f\\left(x_n + c_i h, y_n + h \\sum_{j=1}^s a_{ij} k_{nj}\\right)\n",
    "$$\n",
    "\n",
    "#### Euler's method (forward step)\n",
    "\n",
    "\\begin{array} \n",
    "{c|c} 0 & 0\\\\ \\hline & 1\n",
    "\\end{array}\n",
    "\n",
    "#### Euler's method (backward step)\n",
    "\n",
    "\\begin{array} \n",
    "{c|c} 1 & 1\\\\ \\hline & 1\n",
    "\\end{array}\n",
    "\n",
    "\n",
    "\n",
    "\n",
    "\n",
    "\\begin{array} {c|ccccc} c_1 & a_{11} & a_{12} & \\cdots & a_{1s} \\\\ c_2 & a_{21} & a_{22} & \\cdots & a_{2s} \\\\ \\vdots & \\vdots & & \\ddots & \\vdots \\\\ c_s& a_{s1}& a_{s2} & \\cdots & a_{s,s}\\\\ \\hline & b_1 & b_2 & \\cdots & b_{s} \\end{array}\n",
    "\n",
    "\n",
    "Notes here:\n",
    "https://www.johndcook.com/blog/2020/02/13/runge-kutta-methods/"
   ]
  },
  {
   "cell_type": "code",
   "execution_count": null,
   "id": "8389047e",
   "metadata": {},
   "outputs": [],
   "source": []
  },
  {
   "cell_type": "markdown",
   "id": "b7fdf546",
   "metadata": {},
   "source": [
    "# The Butcher Tableau, Implicit"
   ]
  },
  {
   "cell_type": "code",
   "execution_count": null,
   "id": "7209210f",
   "metadata": {},
   "outputs": [],
   "source": []
  },
  {
   "cell_type": "markdown",
   "id": "a0d7ed69",
   "metadata": {},
   "source": [
    "# Linear multistep"
   ]
  },
  {
   "cell_type": "code",
   "execution_count": null,
   "id": "8efea665",
   "metadata": {},
   "outputs": [],
   "source": []
  },
  {
   "cell_type": "code",
   "execution_count": null,
   "id": "668fd75c",
   "metadata": {},
   "outputs": [],
   "source": []
  },
  {
   "cell_type": "markdown",
   "id": "4f8e159e",
   "metadata": {},
   "source": [
    "# Variable step"
   ]
  },
  {
   "cell_type": "code",
   "execution_count": null,
   "id": "f64d8744",
   "metadata": {},
   "outputs": [],
   "source": []
  },
  {
   "cell_type": "code",
   "execution_count": null,
   "id": "7b3c0464",
   "metadata": {},
   "outputs": [],
   "source": []
  },
  {
   "cell_type": "markdown",
   "id": "b3c4d747",
   "metadata": {},
   "source": [
    "# Symplectic\n",
    "\n",
    "When we have an explict conserved quantity, many of the above methods will fail\n",
    "\n"
   ]
  },
  {
   "cell_type": "code",
   "execution_count": null,
   "id": "19899002",
   "metadata": {},
   "outputs": [],
   "source": []
  },
  {
   "cell_type": "code",
   "execution_count": null,
   "id": "99339b33",
   "metadata": {},
   "outputs": [],
   "source": []
  },
  {
   "cell_type": "code",
   "execution_count": null,
   "id": "ae322ea8",
   "metadata": {},
   "outputs": [],
   "source": []
  }
 ],
 "metadata": {
  "kernelspec": {
   "display_name": "Python 3.8.11 ('phys381')",
   "language": "python",
   "name": "python3"
  },
  "language_info": {
   "codemirror_mode": {
    "name": "ipython",
    "version": 3
   },
   "file_extension": ".py",
   "mimetype": "text/x-python",
   "name": "python",
   "nbconvert_exporter": "python",
   "pygments_lexer": "ipython3",
   "version": "3.8.11"
  },
  "vscode": {
   "interpreter": {
    "hash": "dd2d507358018fbaed212338faa319de6206d9a642fdbeff386a22163c5069f1"
   }
  }
 },
 "nbformat": 4,
 "nbformat_minor": 5
}
