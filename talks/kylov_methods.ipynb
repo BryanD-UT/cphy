{
 "cells": [
  {
   "cell_type": "code",
   "execution_count": 4,
   "id": "9ee03d2d-906b-4dee-aee1-b48f2a17a887",
   "metadata": {},
   "outputs": [],
   "source": [
    "import numpy as np\n",
    "from IPython.display import Image, display\n",
    "\n",
    "import matplotlib.pyplot as plt\n",
    "%matplotlib inline\n"
   ]
  },
  {
   "cell_type": "code",
   "execution_count": null,
   "id": "435d1e23",
   "metadata": {},
   "outputs": [],
   "source": [
    "class ModifiedGramSchmidt:\n",
    "\n",
    "    def __init__(self, A):\n",
    "        self.A = A\n",
    "        self.Q = np.zeros_like(A)\n",
    "        self.R = np.zeros_like(A)\n",
    "        self._decompose()\n",
    "\n",
    "    def _decompose(self):\n",
    "        for i in range(self.A.shape[1]):\n",
    "            self.Q[:, i] = self.A[:, i]\n",
    "            for j in range(i):\n",
    "                self.R[j, i] = np.dot(self.Q[:, j], self.A[:, i])\n",
    "                self.Q[:, i] -= self.R[j, i] * self.Q[:, j]\n",
    "            self.R[i, i] = np.linalg.norm(self.Q[:, i])\n",
    "            self.Q[:, i] /= self.R[i, i]\n",
    "\n",
    "    def solve(self, b):\n",
    "        y = np.dot(self.Q.T, b)\n",
    "        return np.linalg.solve(self.R, y)\n",
    "\n",
    "    def inverse(self):\n",
    "        return np.linalg.solve(self.R.T, np.linalg.solve(self.R, np.eye(self.A.shape[0])))\n",
    "\n",
    "    def __str__(self):\n",
    "        return \"Q:\\n{}\\nR:\\n{}\".format(self.Q, self.R)\n",
    "\n",
    "    def __repr__(self):\n",
    "        return self.__str__()\n",
    "\n",
    "class Householder:\n",
    "    \n",
    "    def __init__(self, A):\n",
    "        self.A = A\n",
    "        self.Q = np.zeros_like(A)\n",
    "        self.R = np.zeros_like(A)\n",
    "        self._decompose()\n",
    "\n",
    "    def _decompose(self):\n",
    "        for i in range(self.A.shape[1]):\n",
    "            self.Q[:, i] = self.A[:, i]\n",
    "            for j in range(i):\n",
    "                self.R[j, i] = np.dot(self.Q[:, j], self.A[:, i])\n",
    "                self.Q[:, i] -= self.R[j, i] * self.Q[:, j]\n",
    "            self.R[i, i] = np.linalg.norm(self.Q[:, i])\n",
    "            self.Q[:, i] /= self.R[i, i]\n",
    "\n",
    "    def solve(self, b):\n",
    "        y = np.dot(self.Q.T, b)\n",
    "        return np.linalg.solve(self.R, y)\n",
    "\n",
    "    def inverse(self):\n",
    "        return np.linalg.solve(self.R.T, np.linalg.solve(self.R, np.eye(self.A.shape[0])))\n",
    "\n",
    "    def __str__(self):\n",
    "        return \"Q:\\n{}\\nR:\\n{}\".format(self.Q, self.R)\n",
    "\n",
    "    def __repr__(self):\n",
    "        return self.__str__()"
   ]
  },
  {
   "cell_type": "code",
   "execution_count": null,
   "id": "f370d932",
   "metadata": {},
   "outputs": [],
   "source": [
    "class ConjugateGradientMethod:\n",
    "\n",
    "    def __init__(self, A, b, x0, tol=1e-6, max_iter=1000):\n",
    "        self.A = A\n",
    "        self.b = b\n",
    "        self.x0 = x0\n",
    "        self.tol = tol\n",
    "        self.max_iter = max_iter\n",
    "\n",
    "    def solve(self):\n",
    "        x = self.x0\n",
    "        r = self.b - self.A @ x\n",
    "        p = r\n",
    "        for i in range(self.max_iter):\n",
    "            alpha = (r.T @ r) / (p.T @ self.A @ p)\n",
    "            x = x + alpha * p\n",
    "            r = r - alpha * self.A @ p\n",
    "            if np.linalg.norm(r) < self.tol:\n",
    "                return x, i\n",
    "            beta = (r.T @ r) / (self.b.T @ self.b)\n",
    "            p = r + beta * p\n",
    "        return x, i\n",
    "\n",
    "        "
   ]
  },
  {
   "cell_type": "code",
   "execution_count": null,
   "id": "afd3cd0b",
   "metadata": {},
   "outputs": [],
   "source": []
  },
  {
   "cell_type": "code",
   "execution_count": null,
   "id": "0e932511",
   "metadata": {},
   "outputs": [],
   "source": []
  },
  {
   "cell_type": "code",
   "execution_count": null,
   "id": "895b021f",
   "metadata": {},
   "outputs": [],
   "source": []
  },
  {
   "cell_type": "code",
   "execution_count": null,
   "id": "89a48d7c",
   "metadata": {},
   "outputs": [],
   "source": []
  },
  {
   "cell_type": "code",
   "execution_count": null,
   "id": "a0d7ed69",
   "metadata": {},
   "outputs": [],
   "source": []
  },
  {
   "cell_type": "code",
   "execution_count": null,
   "id": "8efea665",
   "metadata": {},
   "outputs": [],
   "source": []
  },
  {
   "cell_type": "code",
   "execution_count": null,
   "id": "7b3c0464",
   "metadata": {},
   "outputs": [],
   "source": []
  }
 ],
 "metadata": {
  "kernelspec": {
   "display_name": "Python 3.10.4 ('cphy')",
   "language": "python",
   "name": "python3"
  },
  "language_info": {
   "codemirror_mode": {
    "name": "ipython",
    "version": 3
   },
   "file_extension": ".py",
   "mimetype": "text/x-python",
   "name": "python",
   "nbconvert_exporter": "python",
   "pygments_lexer": "ipython3",
   "version": "3.10.4"
  },
  "vscode": {
   "interpreter": {
    "hash": "0e972983abb2b5c6293c34082f6ff1f6e60e8afbd2a068e0026ccecbb212fdb6"
   }
  }
 },
 "nbformat": 4,
 "nbformat_minor": 5
}
